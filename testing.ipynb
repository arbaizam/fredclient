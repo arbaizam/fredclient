{
 "cells": [
  {
   "cell_type": "code",
   "execution_count": 1,
   "id": "dc19334e",
   "metadata": {},
   "outputs": [],
   "source": [
    "from fredclient.client import FredClient\n",
    "import os\n",
    "from dotenv import load_dotenv\n",
    "import pandas as pd"
   ]
  },
  {
   "cell_type": "code",
   "execution_count": 2,
   "id": "6b06bf49",
   "metadata": {},
   "outputs": [
    {
     "name": "stdout",
     "output_type": "stream",
     "text": [
      "get_series: Get a series.\n",
      "\n",
      "Required parameters:\n",
      "  - api_key: str\n",
      "  - series_id: str\n",
      "Optional parameters:\n",
      "  - file_type: str\n"
     ]
    }
   ],
   "source": [
    "load_dotenv()\n",
    "api_key = os.getenv(\"FRED_API_KEY\")\n",
    "\n",
    "client = FredClient(api_key=api_key)\n",
    "\n",
    "\n",
    "# See description for an endpoint\n",
    "print(client.describe_endpoint(\"get_series\"))\n",
    "\n"
   ]
  },
  {
   "cell_type": "code",
   "execution_count": 4,
   "id": "7f68bedb",
   "metadata": {},
   "outputs": [
    {
     "name": "stdout",
     "output_type": "stream",
     "text": [
      "| name                      | path                   | description                                               |\n",
      "|:--------------------------|:-----------------------|:----------------------------------------------------------|\n",
      "| get_category              | /category              | Get a category by ID.                                     |\n",
      "| get_category_children     | /category/children     | Get the child categories for a specified parent category. |\n",
      "| get_category_related      | /category/related      | Get related categories for a category.                    |\n",
      "| get_category_series       | /category/series       | Retrieve series within a specified category.              |\n",
      "| get_category_tags         | /category/tags         | Get the FRED tags for a category.                         |\n",
      "| get_category_related_tags | /category/related_tags | Get related tags for a category.                          |\n",
      "| get_series                | /series                | Get a series.                                             |\n",
      "| get_series_categories     | /series/categories     | Get the categories for a series.                          |\n",
      "| get_series_observations   | /series/observations   | Get observations for a series.                            |\n",
      "| get_series_search         | /series/search         | Search for FRED series.                                   |\n",
      "None\n"
     ]
    }
   ],
   "source": [
    "print(client.get_all_endpoints())"
   ]
  },
  {
   "cell_type": "code",
   "execution_count": null,
   "id": "8a6ae542",
   "metadata": {},
   "outputs": [],
   "source": [
    "print(client.describe_endpoint(\"get_series_observations\"))"
   ]
  },
  {
   "cell_type": "code",
   "execution_count": null,
   "id": "7c36894a",
   "metadata": {},
   "outputs": [],
   "source": [
    "# Example: Fetch series metadata\n",
    "r = client.get_series_observations(series_id=\"GNPCA\", observation_start = \"2010-01-01\", observation_end = \"2024-01-01\")\n",
    "pd.DataFrame(r[\"observations\"])"
   ]
  },
  {
   "cell_type": "code",
   "execution_count": null,
   "id": "0e308076",
   "metadata": {},
   "outputs": [],
   "source": []
  },
  {
   "cell_type": "code",
   "execution_count": null,
   "id": "10e7896f",
   "metadata": {},
   "outputs": [],
   "source": []
  },
  {
   "cell_type": "code",
   "execution_count": null,
   "id": "d6233761",
   "metadata": {},
   "outputs": [],
   "source": []
  }
 ],
 "metadata": {
  "kernelspec": {
   "display_name": "GeneralEnv",
   "language": "python",
   "name": "python3"
  },
  "language_info": {
   "codemirror_mode": {
    "name": "ipython",
    "version": 3
   },
   "file_extension": ".py",
   "mimetype": "text/x-python",
   "name": "python",
   "nbconvert_exporter": "python",
   "pygments_lexer": "ipython3",
   "version": "3.13.2"
  }
 },
 "nbformat": 4,
 "nbformat_minor": 5
}
